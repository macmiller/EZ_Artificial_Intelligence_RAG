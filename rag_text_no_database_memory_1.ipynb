{
 "cells": [
  {
   "cell_type": "markdown",
   "metadata": {},
   "source": [
    "This example simply loads a text as 'context' of something that didn't happen yet when the llm was trained.  It then demonstrated 'memory' using the langchain ConverstationChain with memory."
   ]
  },
  {
   "cell_type": "markdown",
   "metadata": {},
   "source": [
    "Sample question series that needs 'memory'\n",
    "\n",
    "Who discovered America?\n",
    "When was it discovered?"
   ]
  },
  {
   "cell_type": "code",
   "execution_count": 8,
   "metadata": {},
   "outputs": [],
   "source": [
    "from langchain.llms import OpenAI \n",
    "from dotenv import load_dotenv\n",
    "from pathlib import Path\n",
    "import os\n",
    "dotenv_path = Path('.env_secure')\n",
    "load_dotenv(dotenv_path=dotenv_path)\n",
    "open_api_key = os.environ.get('OPENAI_API_KEY')\n"
   ]
  },
  {
   "cell_type": "code",
   "execution_count": 9,
   "metadata": {},
   "outputs": [],
   "source": [
    "text = [\"\"\"\n",
    "CNN\n",
    " — \n",
    "A record-breaking Norwegian climber has hit out at what she calls “misinformation and hatred” surrounding claims she and her team climbed over a dying porter on K2 to summit the deadly peak.\n",
    "\n",
    "Last month, Kristin Harila and Nepali Tenjin Sherpa – known as Lama – smashed the record for the fastest summit of all 14 of the world’s 8,000-meter (26,000-feet) mountains. They completed the feat in three months and one day after climbing Pakistan’s K2, the last peak on their quest and considered to be more technically challenging than Mount Everest.\n",
    "\n",
    "But their achievement has now been overshadowed by shocking claims that dozens of climbers walked past a Pakistani porter who fell off a sheer edge, was hanging upside down in ropes and later died.\n",
    "\n",
    "Speaking to CNN on Friday, Harila insisted she and her team did everything they could to save Pakistani mountain porter Mohammad Hassan, and denied that she was in footage circulating of the incident.\n",
    "\n",
    "Austrian climber Wilhelm Steindl was on the mountain that day, according to an interview he did with the Austrian newspaper The Standard on Tuesday. But he decided to turn back when conditions became too dangerous, he said.\n",
    "\n",
    "Once back at base camp, he said he watched drone footage of those who continued on the treacherous route, captured by cameraman Philip Flämig. Eyewitnesses later said that they saw a man who had fallen and was left hanging upside down, while climbers passed him on their ascent, according to the report. CNN has not seen the footage.\n",
    "\n",
    "\"\"\"]\n",
    "source = [\"https://www.cnn.com/travel/article/mountaineer-k2-porter-death-scli-intl/index.html\"]"
   ]
  },
  {
   "cell_type": "markdown",
   "metadata": {},
   "source": [
    "langchain memory ==> https://github.com/simpleappdesigner/LangChain_101/blob/main/LangChain_101_memory.ipynb\n",
    "article ==> https://www.cnn.com/travel/article/mountaineer-k2-porter-death-scli-intl/index.html"
   ]
  },
  {
   "cell_type": "code",
   "execution_count": 10,
   "metadata": {},
   "outputs": [
    {
     "name": "stdout",
     "output_type": "stream",
     "text": [
      "<class 'list'>\n"
     ]
    }
   ],
   "source": [
    "from langchain.docstore.document import Document\n",
    "docs = [Document(page_content=\"text\", metadata={\"source\": \"local\"}),]\n",
    "print(type(docs))\n",
    "doc_ = [Document(page_content=str(text), metadata={\"source\": \"https://www.cnn.com/travel/article/mountaineer-k2-porter-death-scli-intl/index.html\"})]\n"
   ]
  },
  {
   "cell_type": "code",
   "execution_count": 12,
   "metadata": {},
   "outputs": [
    {
     "data": {
      "text/plain": [
       "' H, I, J, K.'"
      ]
     },
     "execution_count": 12,
     "metadata": {},
     "output_type": "execute_result"
    }
   ],
   "source": [
    "from langchain.chains import ConversationChain\n",
    "from langchain.memory import ConversationBufferMemory\n",
    "chat = OpenAI()\n",
    "\n",
    "conversation = ConversationChain(\n",
    "    llm=chat,\n",
    "    memory=ConversationBufferMemory(),\n",
    ")\n",
    "\n",
    "conversation.run(\"Answer briefly. What are the first 7 letters of the alphabet?\")\n",
    "conversation.run(\"And the next 4?\")"
   ]
  },
  {
   "cell_type": "code",
   "execution_count": 13,
   "metadata": {},
   "outputs": [],
   "source": [
    "from langchain.prompts import PromptTemplate\n",
    "prompt_template = \"\"\"You are a Chat customer support agent.\\\n",
    "        Use the following pieces of context to answer the question at the end.\\\n",
    "        If you don't know the answer, just say that you don't know, don't try to make up an answer.\\\n",
    "        {context}\\\n",
    "        Question: {question}\\\n",
    "        Answer: \"\"\"\n",
    "PROMPT = PromptTemplate(\n",
    "    template=prompt_template, input_variables=[\"context\", \"question\"]\n",
    ")\n",
    "from langchain.chains.question_answering import load_qa_chain\n",
    "\n",
    "memory = ConversationBufferMemory(memory_key=\"chat_history\", input_key=\"question\")\n",
    "chain = load_qa_chain(\n",
    "    OpenAI(temperature=0), chain_type=\"stuff\", memory=memory, prompt=PROMPT\n",
    ")\n",
    "\n",
    "query = \"What is Kristin Harila accused of doing on a recent record breaking climb?\"\n",
    "docs = doc_\n",
    "\n",
    "chain_input={\n",
    "    \"input_documents\": docs,\n",
    "    \"context\":\"This is contextless\",\n",
    "    \"question\":query,\n",
    "\n",
    "}\n",
    "result=chain(chain_input, return_only_outputs=True)\n"
   ]
  },
  {
   "cell_type": "code",
   "execution_count": 14,
   "metadata": {},
   "outputs": [
    {
     "data": {
      "text/plain": [
       "' Kristin Harila is accused of walking past a Pakistani porter who fell off a sheer edge and was hanging upside down in ropes while she and her team were on their ascent.'"
      ]
     },
     "execution_count": 14,
     "metadata": {},
     "output_type": "execute_result"
    }
   ],
   "source": [
    "result['output_text']"
   ]
  },
  {
   "cell_type": "code",
   "execution_count": 15,
   "metadata": {},
   "outputs": [
    {
     "data": {
      "text/plain": [
       "'The porter was Mohammad Hassan.'"
      ]
     },
     "execution_count": 15,
     "metadata": {},
     "output_type": "execute_result"
    }
   ],
   "source": [
    "query = \"Who was the porter?\"\n",
    "chain_input={\n",
    "    \"input_documents\": docs,\n",
    "    \"context\":\"This is contextless\",\n",
    "    \"question\":query,\n",
    "\n",
    "}\n",
    "result=chain(chain_input, return_only_outputs=True)\n",
    "result['output_text'].replace(\"\\n\", \"\")"
   ]
  }
 ],
 "metadata": {
  "kernelspec": {
   "display_name": ".venv_z26",
   "language": "python",
   "name": "python3"
  },
  "language_info": {
   "codemirror_mode": {
    "name": "ipython",
    "version": 3
   },
   "file_extension": ".py",
   "mimetype": "text/x-python",
   "name": "python",
   "nbconvert_exporter": "python",
   "pygments_lexer": "ipython3",
   "version": "3.11.3"
  }
 },
 "nbformat": 4,
 "nbformat_minor": 2
}
